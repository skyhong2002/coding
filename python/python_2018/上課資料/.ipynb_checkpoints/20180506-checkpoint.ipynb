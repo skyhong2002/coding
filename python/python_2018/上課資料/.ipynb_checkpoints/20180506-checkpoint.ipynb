{
 "cells": [
  {
   "cell_type": "code",
   "execution_count": 2,
   "metadata": {},
   "outputs": [
    {
     "name": "stdout",
     "output_type": "stream",
     "text": [
      "[2, 4, 6, 8, 12, 14, 16, 18, 22, 24, 26, 28, 32, 34, 36, 38, 42, 44, 46, 48, 52, 54, 56, 58, 62, 64, 66, 68, 72, 74, 76, 78, 82, 84, 86, 88, 92, 94, 96, 98]\n"
     ]
    }
   ],
   "source": [
    "print([i for i in range(101) if i % 2 == 0 and i % 5 != 0])"
   ]
  },
  {
   "cell_type": "code",
   "execution_count": 3,
   "metadata": {},
   "outputs": [
    {
     "name": "stdout",
     "output_type": "stream",
     "text": [
      "[1, 2, 3, 4, 5, 6, 7, 8, 9, 10, 11, 12, 13, 14, 15, 16, 17, 18, 19, 20, 21, 22, 23, 24, 25, 26, 27, 28, 29, 30, 31, 32, 33, 34, 35, 36, 37, 38, 39, 40, 41, 42, 43, 44, 45, 46, 47, 48, 49, 50]\n"
     ]
    }
   ],
   "source": [
    "#1-50所有的數\n",
    "print([i for i in range(1,51)])"
   ]
  },
  {
   "cell_type": "code",
   "execution_count": 2,
   "metadata": {},
   "outputs": [
    {
     "name": "stdout",
     "output_type": "stream",
     "text": [
      "[5, 10, 15, 20, 25, 30, 35, 40, 45, 50]\n"
     ]
    }
   ],
   "source": [
    "#1-50所有5的倍數\n",
    "print([i for i in range(1,51) if i % 5 == 0])"
   ]
  },
  {
   "cell_type": "code",
   "execution_count": 8,
   "metadata": {},
   "outputs": [
    {
     "name": "stdout",
     "output_type": "stream",
     "text": [
      "[3, 6, 12, 15, 21, 24, 30, 33, 39, 42, 48, 51, 57, 60, 66, 69, 75, 78, 84, 87, 93, 96]\n"
     ]
    }
   ],
   "source": [
    "#1-100所有3的倍數但不是9的倍數\n",
    "print([i for i in range(1,101) if i % 3 == 0 and i % 9 != 0])"
   ]
  },
  {
   "cell_type": "code",
   "execution_count": 12,
   "metadata": {},
   "outputs": [
    {
     "name": "stdout",
     "output_type": "stream",
     "text": [
      "[2, 4, 8, 16, 32, 64]\n"
     ]
    }
   ],
   "source": [
    "#1-100所有2的次方數\n",
    "print([2**i for i in range(1,11) if 2**i > 0 and 2**i <= 100])"
   ]
  },
  {
   "cell_type": "code",
   "execution_count": 14,
   "metadata": {},
   "outputs": [
    {
     "name": "stdout",
     "output_type": "stream",
     "text": [
      "ATCATCTATCTAATXTAT\n",
      "['A', 'T', 'C', 'A', 'T', 'C', 'T', 'A', 'T', 'C', 'T', 'A', 'A', 'T', 'T', 'A', 'T']\n"
     ]
    }
   ],
   "source": [
    "#[回傳值 迭代 遮罩]\n",
    "print([i for i in input() if i in \"ATGC\"])"
   ]
  },
  {
   "cell_type": "code",
   "execution_count": 16,
   "metadata": {},
   "outputs": [
    {
     "name": "stdout",
     "output_type": "stream",
     "text": [
      "ATCATCTATCTAATXTAT\n",
      "['A', 'T', 'C', 'A', 'T', 'C', 'T', 'A', 'T', 'C', 'T', 'A', 'A', 'T', 'x', 'T', 'A', 'T']\n"
     ]
    }
   ],
   "source": [
    "#[Expression 迭代 遮罩]\n",
    "print([i if i in \"ATGC\" else 'x' for i in input() ])"
   ]
  },
  {
   "cell_type": "code",
   "execution_count": 18,
   "metadata": {},
   "outputs": [
    {
     "name": "stdout",
     "output_type": "stream",
     "text": [
      "[71222, 71224, 6, 71228, 712210, 12, 712214, 712216, 18, 712220, 712222, 24, 712226, 712228, 30, 712232, 712234, 36, 712238, 712240, 42, 712244, 712246, 48, 712250, 712252, 54, 712256, 712258, 60, 712262, 712264, 66, 712268, 712270, 72, 712274, 712276, 78, 712280, 712282, 84, 712286, 712288, 90, 712292, 712294, 96, 712298, 7122100]\n"
     ]
    }
   ],
   "source": [
    "print([int(\"7122\"+str(i)) if i % 3 != 0 else i for i in range(1,101) if i % 2 == 0])"
   ]
  },
  {
   "cell_type": "code",
   "execution_count": 1,
   "metadata": {},
   "outputs": [
    {
     "name": "stdout",
     "output_type": "stream",
     "text": [
      "1 2 2\n",
      "1 4 4\n",
      "1 6 6\n",
      "1 8 8\n",
      "2 2 4\n",
      "2 4 8\n",
      "2 6 12\n",
      "2 8 16\n",
      "3 2 6\n",
      "3 4 12\n",
      "3 6 18\n",
      "3 8 24\n",
      "4 2 8\n",
      "4 4 16\n",
      "4 6 24\n",
      "4 8 32\n",
      "5 2 10\n",
      "5 4 20\n",
      "5 6 30\n",
      "5 8 40\n",
      "6 2 12\n",
      "6 4 24\n",
      "6 6 36\n",
      "6 8 48\n",
      "7 2 14\n",
      "7 4 28\n",
      "7 6 42\n",
      "7 8 56\n",
      "8 2 16\n",
      "8 4 32\n",
      "8 6 48\n",
      "8 8 64\n",
      "9 2 18\n",
      "9 4 36\n",
      "9 6 54\n",
      "9 8 72\n"
     ]
    },
    {
     "data": {
      "text/plain": [
       "[None,\n",
       " None,\n",
       " None,\n",
       " None,\n",
       " None,\n",
       " None,\n",
       " None,\n",
       " None,\n",
       " None,\n",
       " None,\n",
       " None,\n",
       " None,\n",
       " None,\n",
       " None,\n",
       " None,\n",
       " None,\n",
       " None,\n",
       " None,\n",
       " None,\n",
       " None,\n",
       " None,\n",
       " None,\n",
       " None,\n",
       " None,\n",
       " None,\n",
       " None,\n",
       " None,\n",
       " None,\n",
       " None,\n",
       " None,\n",
       " None,\n",
       " None,\n",
       " None,\n",
       " None,\n",
       " None,\n",
       " None]"
      ]
     },
     "execution_count": 1,
     "metadata": {},
     "output_type": "execute_result"
    }
   ],
   "source": [
    "[print(i, j, i*j) for i in range(1,10) for j in range(1,10) if j % 2 == 0]"
   ]
  },
  {
   "cell_type": "code",
   "execution_count": 23,
   "metadata": {},
   "outputs": [
    {
     "name": "stdout",
     "output_type": "stream",
     "text": [
      "1 1 1\n",
      "1 2 2\n",
      "1 3 3\n",
      "1 4 4\n",
      "1 5 5\n",
      "1 6 6\n",
      "1 7 7\n",
      "1 8 8\n",
      "1 9 9\n",
      "2 1 2\n",
      "2 2 4\n",
      "2 3 6\n",
      "2 4 8\n",
      "2 5 10\n",
      "2 6 12\n",
      "2 7 14\n",
      "2 8 16\n",
      "2 9 18\n",
      "3 1 3\n",
      "3 2 6\n",
      "3 3 9\n",
      "3 4 12\n",
      "3 5 15\n",
      "3 6 18\n",
      "3 7 21\n",
      "3 8 24\n",
      "3 9 27\n",
      "4 1 4\n",
      "4 2 8\n",
      "4 3 12\n",
      "4 4 16\n",
      "4 5 20\n",
      "4 6 24\n",
      "4 7 28\n",
      "4 8 32\n",
      "4 9 36\n",
      "5 1 5\n",
      "5 2 10\n",
      "5 3 15\n",
      "5 4 20\n",
      "5 5 25\n",
      "5 6 30\n",
      "5 7 35\n",
      "5 8 40\n",
      "5 9 45\n"
     ]
    },
    {
     "data": {
      "text/plain": [
       "[None,\n",
       " None,\n",
       " None,\n",
       " None,\n",
       " None,\n",
       " None,\n",
       " None,\n",
       " None,\n",
       " None,\n",
       " None,\n",
       " None,\n",
       " None,\n",
       " None,\n",
       " None,\n",
       " None,\n",
       " None,\n",
       " None,\n",
       " None,\n",
       " None,\n",
       " None,\n",
       " None,\n",
       " None,\n",
       " None,\n",
       " None,\n",
       " None,\n",
       " None,\n",
       " None,\n",
       " None,\n",
       " None,\n",
       " None,\n",
       " None,\n",
       " None,\n",
       " None,\n",
       " None,\n",
       " None,\n",
       " None,\n",
       " None,\n",
       " None,\n",
       " None,\n",
       " None,\n",
       " None,\n",
       " None,\n",
       " None,\n",
       " None,\n",
       " None]"
      ]
     },
     "execution_count": 23,
     "metadata": {},
     "output_type": "execute_result"
    }
   ],
   "source": [
    "[print(i,j,i*j) for i in range(1,10) if i <= 5 for j in range(1,10)]"
   ]
  },
  {
   "cell_type": "code",
   "execution_count": 43,
   "metadata": {},
   "outputs": [
    {
     "name": "stdout",
     "output_type": "stream",
     "text": [
      "[1, 0, 0, 0, 0]\n",
      "[0, 1, 0, 0, 0]\n",
      "[0, 0, 1, 0, 0]\n",
      "[0, 0, 0, 1, 0]\n",
      "[0, 0, 0, 0, 1]\n"
     ]
    }
   ],
   "source": [
    "#用list儲存一個 5 x 5 Identity矩陣\n",
    "print(*[[0 if i != j else 1 for i in range(1,6)] for j in range(1,6)],sep = '\\n')"
   ]
  },
  {
   "cell_type": "code",
   "execution_count": null,
   "metadata": {},
   "outputs": [],
   "source": [
    "#zipzipzipzipzipzipzipzipzipzipzipzipzipzipzipzipzipzipzipzipzipzipzipzipzipzipzipzipzipzipzipzipzipzipzipzipzipzip"
   ]
  }
 ],
 "metadata": {
  "kernelspec": {
   "display_name": "Python 3",
   "language": "python",
   "name": "python3"
  },
  "language_info": {
   "codemirror_mode": {
    "name": "ipython",
    "version": 3
   },
   "file_extension": ".py",
   "mimetype": "text/x-python",
   "name": "python",
   "nbconvert_exporter": "python",
   "pygments_lexer": "ipython3",
   "version": "3.6.4"
  }
 },
 "nbformat": 4,
 "nbformat_minor": 2
}
