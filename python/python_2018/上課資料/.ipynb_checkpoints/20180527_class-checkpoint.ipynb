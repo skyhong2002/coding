{
 "cells": [
  {
   "cell_type": "code",
   "execution_count": 49,
   "metadata": {},
   "outputs": [],
   "source": [
    "\n",
    "class Student:\n",
    "\n",
    "    def __init__(self, name, age):\n",
    "        self.name = name\n",
    "        self.age = age\n",
    "        self.money = 5000\n",
    "        self.class_set = []\n",
    "        self.exp = 0\n",
    "        self.level = 1\n",
    "\n",
    "    def print_data(self):\n",
    "        print('name: ' + self.name)\n",
    "        print('age: ' + str(self.age))\n",
    "        print('money: ' + str(self.money))\n",
    "        print('class_set:', self.class_set)\n",
    "        print('score: ' + str(self.exp))\n",
    "        \n",
    "    def buy_class(self, class_name, price, buy_exp):\n",
    "        if self.money >= price: \n",
    "            self.money -= price\n",
    "        self.exp += buy_exp\n",
    "        self.class_set.append(class_name)\n",
    "        "
   ]
  },
  {
   "cell_type": "code",
   "execution_count": 50,
   "metadata": {},
   "outputs": [
    {
     "name": "stdout",
     "output_type": "stream",
     "text": [
      "name: Sky\n",
      "age: 15\n",
      "money: 5000\n",
      "class_set: []\n",
      "score: 0\n"
     ]
    }
   ],
   "source": [
    "sky = Student('Sky', 15)\n",
    "sky.print_data()"
   ]
  },
  {
   "cell_type": "code",
   "execution_count": 51,
   "metadata": {},
   "outputs": [
    {
     "name": "stdout",
     "output_type": "stream",
     "text": [
      "name: Sky\n",
      "age: 15\n",
      "money: 4130\n",
      "class_set: ['math_g9']\n",
      "score: 1000\n"
     ]
    }
   ],
   "source": [
    "sky.buy_class('math_g9', 870, 1000)\n",
    "sky.print_data()"
   ]
  },
  {
   "cell_type": "code",
   "execution_count": null,
   "metadata": {},
   "outputs": [],
   "source": []
  }
 ],
 "metadata": {
  "kernelspec": {
   "display_name": "Python 3",
   "language": "python",
   "name": "python3"
  },
  "language_info": {
   "codemirror_mode": {
    "name": "ipython",
    "version": 3
   },
   "file_extension": ".py",
   "mimetype": "text/x-python",
   "name": "python",
   "nbconvert_exporter": "python",
   "pygments_lexer": "ipython3",
   "version": "3.6.4"
  }
 },
 "nbformat": 4,
 "nbformat_minor": 2
}
