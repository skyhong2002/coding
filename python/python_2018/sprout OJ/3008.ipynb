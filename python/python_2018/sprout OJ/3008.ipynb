{
 "cells": [
  {
   "cell_type": "code",
   "execution_count": 1,
   "metadata": {},
   "outputs": [
    {
     "name": "stdout",
     "output_type": "stream",
     "text": [
      "1 2 3\n",
      "2 3 4\n",
      "20\n"
     ]
    }
   ],
   "source": [
    "#AC in once\n",
    "data=input().split(' ')\n",
    "x1,x2,x3 = int(data[0]),int(data[1]),int(data[2])\n",
    "data=input().split(' ')\n",
    "y1,y2,y3 = int(data[0]),int(data[1]),int(data[2])\n",
    "\n",
    "ans = x1 * y1 + x2 * y2 + x3 * y3\n",
    "\n",
    "print(ans)"
   ]
  },
  {
   "cell_type": "code",
   "execution_count": null,
   "metadata": {},
   "outputs": [],
   "source": []
  }
 ],
 "metadata": {
  "kernelspec": {
   "display_name": "Python 3",
   "language": "python",
   "name": "python3"
  },
  "language_info": {
   "codemirror_mode": {
    "name": "ipython",
    "version": 3
   },
   "file_extension": ".py",
   "mimetype": "text/x-python",
   "name": "python",
   "nbconvert_exporter": "python",
   "pygments_lexer": "ipython3",
   "version": "3.6.4"
  }
 },
 "nbformat": 4,
 "nbformat_minor": 2
}
