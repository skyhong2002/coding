{
 "cells": [
  {
   "cell_type": "code",
   "execution_count": 87,
   "metadata": {},
   "outputs": [
    {
     "name": "stdout",
     "output_type": "stream",
     "text": [
      "4\n",
      "0 0\n",
      "-1 -1\n",
      "5 5\n",
      "3 4\n",
      "-1 -1\n",
      "0 0\n",
      "3 4\n",
      "5 5\n"
     ]
    }
   ],
   "source": [
    "#AC in once\n",
    "\n",
    "import math\n",
    "\n",
    "cnt = int(input())\n",
    "a = []\n",
    "for i in range(cnt):\n",
    "    j = input().split()\n",
    "    a.append(j)\n",
    "\n",
    "for i in range(cnt):\n",
    "    test = a[i]\n",
    "    j = a[::1]\n",
    "    j.pop(i)\n",
    "    ran = {}\n",
    "    for k in range(len(j)):\n",
    "        ans = math.sqrt( math.pow( int(j[k][0]) - int(test[0]), 2) + math.pow( int(j[k][1]) - int(test[1]), 2) )\n",
    "        ran[ans] = j[k] \n",
    "    \n",
    "    print(*ran[min(ran)])"
   ]
  }
 ],
 "metadata": {
  "kernelspec": {
   "display_name": "Python 3",
   "language": "python",
   "name": "python3"
  },
  "language_info": {
   "codemirror_mode": {
    "name": "ipython",
    "version": 3
   },
   "file_extension": ".py",
   "mimetype": "text/x-python",
   "name": "python",
   "nbconvert_exporter": "python",
   "pygments_lexer": "ipython3",
   "version": "3.6.4"
  }
 },
 "nbformat": 4,
 "nbformat_minor": 2
}
