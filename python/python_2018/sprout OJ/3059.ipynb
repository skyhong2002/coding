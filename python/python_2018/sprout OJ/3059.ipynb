{
 "cells": [
  {
   "cell_type": "code",
   "execution_count": 29,
   "metadata": {},
   "outputs": [
    {
     "name": "stdout",
     "output_type": "stream",
     "text": [
      "8778AB7\n",
      "5\n",
      "\n",
      "\n",
      "\n",
      "\n",
      "\n"
     ]
    }
   ],
   "source": [
    "#AC\n",
    "\n",
    "ip = input()\n",
    "cnt = int(input())\n",
    "\n",
    "for i in range(cnt):\n",
    "    action = input()\n",
    "    \n",
    "    if action == \"P\":\n",
    "        ans = ip\n",
    "        print(ans)\n",
    "    \n",
    "    elif action == \"R\":\n",
    "        ip = ip[::-1]\n",
    "\n",
    "    elif action == \"E\":\n",
    "        ip = ip[::-1]\n",
    "        RE = ip.replace(ip[0], \"\", 1)\n",
    "        ip = RE[::-1]"
   ]
  },
  {
   "cell_type": "code",
   "execution_count": 28,
   "metadata": {},
   "outputs": [
    {
     "ename": "SyntaxError",
     "evalue": "invalid syntax (<ipython-input-28-682796f6e219>, line 1)",
     "output_type": "error",
     "traceback": [
      "\u001b[0;36m  File \u001b[0;32m\"<ipython-input-28-682796f6e219>\"\u001b[0;36m, line \u001b[0;32m1\u001b[0m\n\u001b[0;31m    8778AB7\u001b[0m\n\u001b[0m          ^\u001b[0m\n\u001b[0;31mSyntaxError\u001b[0m\u001b[0;31m:\u001b[0m invalid syntax\n"
     ]
    }
   ],
   "source": [
    "8778AB7\n",
    "3\n",
    "P\n",
    "E\n",
    "R\n"
   ]
  },
  {
   "cell_type": "code",
   "execution_count": 27,
   "metadata": {},
   "outputs": [
    {
     "data": {
      "text/plain": [
       "'eca'"
      ]
     },
     "execution_count": 27,
     "metadata": {},
     "output_type": "execute_result"
    }
   ],
   "source": [
    "ip = \"abcde\"\n",
    "ip = ip[4::-2]\n",
    "ip"
   ]
  },
  {
   "cell_type": "code",
   "execution_count": null,
   "metadata": {},
   "outputs": [],
   "source": []
  }
 ],
 "metadata": {
  "kernelspec": {
   "display_name": "Python 3",
   "language": "python",
   "name": "python3"
  },
  "language_info": {
   "codemirror_mode": {
    "name": "ipython",
    "version": 3
   },
   "file_extension": ".py",
   "mimetype": "text/x-python",
   "name": "python",
   "nbconvert_exporter": "python",
   "pygments_lexer": "ipython3",
   "version": "3.6.4"
  }
 },
 "nbformat": 4,
 "nbformat_minor": 2
}
