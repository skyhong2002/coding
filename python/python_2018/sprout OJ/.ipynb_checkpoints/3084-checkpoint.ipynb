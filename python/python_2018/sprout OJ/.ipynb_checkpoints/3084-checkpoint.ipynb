{
 "cells": [
  {
   "cell_type": "code",
   "execution_count": 3,
   "metadata": {},
   "outputs": [
    {
     "name": "stdout",
     "output_type": "stream",
     "text": [
      "9\n",
      "push 1\n",
      "push 2\n",
      "pop\n",
      "1\n",
      "push 3\n",
      "pop\n",
      "2\n",
      "pop\n",
      "3\n",
      "push 4\n",
      "pop\n",
      "4\n",
      "pop\n",
      "empty!!\n"
     ]
    }
   ],
   "source": [
    "#AC in once\n",
    "\n",
    "import queue\n",
    "\n",
    "a = queue.Queue()\n",
    "\n",
    "for i in range(int(input())):\n",
    "    instruction = input().split()\n",
    "    \n",
    "    if instruction[0] == 'push':\n",
    "        a.put(instruction[1])\n",
    "    elif instruction[0] == 'pop':\n",
    "        if a.empty():\n",
    "            print('empty!!')\n",
    "        else:\n",
    "            print(a.get())"
   ]
  },
  {
   "cell_type": "code",
   "execution_count": null,
   "metadata": {},
   "outputs": [],
   "source": [
    "9\n",
    "push 1\n",
    "push 2\n",
    "pop\n",
    "push 3\n",
    "pop\n",
    "pop\n",
    "push 4\n",
    "pop\n",
    "pop"
   ]
  }
 ],
 "metadata": {
  "kernelspec": {
   "display_name": "Python 3",
   "language": "python",
   "name": "python3"
  },
  "language_info": {
   "codemirror_mode": {
    "name": "ipython",
    "version": 3
   },
   "file_extension": ".py",
   "mimetype": "text/x-python",
   "name": "python",
   "nbconvert_exporter": "python",
   "pygments_lexer": "ipython3",
   "version": "3.6.4"
  }
 },
 "nbformat": 4,
 "nbformat_minor": 2
}
