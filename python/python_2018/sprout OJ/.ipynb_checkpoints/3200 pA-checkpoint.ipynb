{
 "cells": [
  {
   "cell_type": "code",
   "execution_count": 14,
   "metadata": {},
   "outputs": [
    {
     "name": "stdout",
     "output_type": "stream",
     "text": [
      "2\n",
      "123\n",
      "3\n",
      "2\n",
      "1\n",
      "END\n",
      "456\n",
      "6\n",
      "5\n",
      "4\n",
      "END\n"
     ]
    }
   ],
   "source": [
    "#AC in twice\n",
    "\n",
    "cnt = int(input())\n",
    "for i in range(cnt):\n",
    "    string = list(input())\n",
    "    for j in range(len(string)):\n",
    "        print(string[len(string) - j - 1])\n",
    "    print('END')"
   ]
  },
  {
   "cell_type": "markdown",
   "metadata": {},
   "source": []
  }
 ],
 "metadata": {
  "kernelspec": {
   "display_name": "Python 3",
   "language": "python",
   "name": "python3"
  },
  "language_info": {
   "codemirror_mode": {
    "name": "ipython",
    "version": 3
   },
   "file_extension": ".py",
   "mimetype": "text/x-python",
   "name": "python",
   "nbconvert_exporter": "python",
   "pygments_lexer": "ipython3",
   "version": "3.6.4"
  }
 },
 "nbformat": 4,
 "nbformat_minor": 2
}
