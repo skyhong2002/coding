{
 "cells": [
  {
   "cell_type": "code",
   "execution_count": 3,
   "metadata": {},
   "outputs": [
    {
     "name": "stdout",
     "output_type": "stream",
     "text": [
      "2\n",
      "3\n"
     ]
    }
   ],
   "source": [
    "#AC\n",
    "\n",
    "caps = 0\n",
    "drinked = 0\n",
    "drink = int(input())\n",
    "land = 0\n",
    "\n",
    "while drink != 0 or caps == 2:\n",
    "    \n",
    "    if caps % 3 == 2:\n",
    "        caps += 1\n",
    "        land = 1\n",
    "        \n",
    "    caps += drink\n",
    "    drinked += drink\n",
    "    drink = caps // 3\n",
    "    caps = caps - ( drink * 3 )\n",
    "    \n",
    "    if land == 1:\n",
    "        land = 0\n",
    "        caps -= 1\n",
    "        \n",
    "print(drinked)\n"
   ]
  },
  {
   "cell_type": "code",
   "execution_count": null,
   "metadata": {},
   "outputs": [],
   "source": []
  }
 ],
 "metadata": {
  "kernelspec": {
   "display_name": "Python 3",
   "language": "python",
   "name": "python3"
  },
  "language_info": {
   "codemirror_mode": {
    "name": "ipython",
    "version": 3
   },
   "file_extension": ".py",
   "mimetype": "text/x-python",
   "name": "python",
   "nbconvert_exporter": "python",
   "pygments_lexer": "ipython3",
   "version": "3.6.4"
  }
 },
 "nbformat": 4,
 "nbformat_minor": 2
}
