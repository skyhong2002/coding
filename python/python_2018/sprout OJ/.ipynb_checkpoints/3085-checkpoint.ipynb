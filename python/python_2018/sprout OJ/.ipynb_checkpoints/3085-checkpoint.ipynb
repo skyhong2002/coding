{
 "cells": [
  {
   "cell_type": "code",
   "execution_count": 6,
   "metadata": {},
   "outputs": [
    {
     "name": "stdout",
     "output_type": "stream",
     "text": [
      "5\n",
      "push 3\n",
      "push 5\n",
      "pop\n",
      "5\n",
      "pop\n",
      "3\n",
      "pop\n",
      "empty!!\n"
     ]
    }
   ],
   "source": [
    "#AC in once\n",
    "s = []\n",
    "\n",
    "for i in range(int(input())):\n",
    "    instruction = input().split()\n",
    "    \n",
    "    if instruction[0] == 'push':\n",
    "        s.append(instruction[1])\n",
    "    elif instruction[0] == 'pop':\n",
    "        if not s:\n",
    "            print('empty!!')\n",
    "        else:\n",
    "            print(s.pop())"
   ]
  },
  {
   "cell_type": "code",
   "execution_count": null,
   "metadata": {},
   "outputs": [],
   "source": []
  }
 ],
 "metadata": {
  "kernelspec": {
   "display_name": "Python 3",
   "language": "python",
   "name": "python3"
  },
  "language_info": {
   "codemirror_mode": {
    "name": "ipython",
    "version": 3
   },
   "file_extension": ".py",
   "mimetype": "text/x-python",
   "name": "python",
   "nbconvert_exporter": "python",
   "pygments_lexer": "ipython3",
   "version": "3.6.4"
  }
 },
 "nbformat": 4,
 "nbformat_minor": 2
}
