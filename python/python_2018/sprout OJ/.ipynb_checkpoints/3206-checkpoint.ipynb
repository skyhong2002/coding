{
 "cells": [
  {
   "cell_type": "code",
   "execution_count": 8,
   "metadata": {},
   "outputs": [
    {
     "name": "stdout",
     "output_type": "stream",
     "text": [
      "yy/dd/mm\n",
      "2016/10/04\n"
     ]
    }
   ],
   "source": [
    "#AC in once\n",
    "\n",
    "fmt = input().split(sep='/')\n",
    "a = input().split(sep='/')\n",
    "\n",
    "dic = {}\n",
    "for i in range(len(fmt)):\n",
    "    dic[fmt[i]] = a[i]\n",
    "\n",
    "print(dic['yy'], dic['mm'], dic['dd'],  sep='/')"
   ]
  }
 ],
 "metadata": {
  "kernelspec": {
   "display_name": "Python 3",
   "language": "python",
   "name": "python3"
  },
  "language_info": {
   "codemirror_mode": {
    "name": "ipython",
    "version": 3
   },
   "file_extension": ".py",
   "mimetype": "text/x-python",
   "name": "python",
   "nbconvert_exporter": "python",
   "pygments_lexer": "ipython3",
   "version": "3.6.4"
  }
 },
 "nbformat": 4,
 "nbformat_minor": 2
}
