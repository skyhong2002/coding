{
 "cells": [
  {
   "cell_type": "code",
   "execution_count": 20,
   "metadata": {},
   "outputs": [
    {
     "ename": "SyntaxError",
     "evalue": "unexpected EOF while parsing (<ipython-input-20-9227d6ec962c>, line 11)",
     "output_type": "error",
     "traceback": [
      "\u001b[0;36m  File \u001b[0;32m\"<ipython-input-20-9227d6ec962c>\"\u001b[0;36m, line \u001b[0;32m11\u001b[0m\n\u001b[0;31m    #   string = str(input())\u001b[0m\n\u001b[0m                             ^\u001b[0m\n\u001b[0;31mSyntaxError\u001b[0m\u001b[0;31m:\u001b[0m unexpected EOF while parsing\n"
     ]
    }
   ],
   "source": [
    "import math\n",
    "cnt = int(input())\n",
    "sqare = []\n",
    "i = 0\n",
    "\n",
    "while i < 31:\n",
    "    i += 1\n",
    "    sqare.append(int(math.pow(i, 2)) \n",
    "                 \n",
    "#for j in range(cnt):\n",
    "#   string = str(input())"
   ]
  },
  {
   "cell_type": "code",
   "execution_count": 19,
   "metadata": {},
   "outputs": [
    {
     "data": {
      "text/plain": [
       "[1.0,\n",
       " 4.0,\n",
       " 9.0,\n",
       " 16.0,\n",
       " 25.0,\n",
       " 36.0,\n",
       " 49.0,\n",
       " 64.0,\n",
       " 81.0,\n",
       " 100.0,\n",
       " 121.0,\n",
       " 144.0,\n",
       " 169.0,\n",
       " 196.0,\n",
       " 225.0,\n",
       " 256.0,\n",
       " 289.0,\n",
       " 324.0,\n",
       " 361.0,\n",
       " 400.0,\n",
       " 441.0,\n",
       " 484.0,\n",
       " 529.0,\n",
       " 576.0,\n",
       " 625.0,\n",
       " 676.0,\n",
       " 729.0,\n",
       " 784.0,\n",
       " 841.0,\n",
       " 900.0,\n",
       " 961.0]"
      ]
     },
     "execution_count": 19,
     "metadata": {},
     "output_type": "execute_result"
    }
   ],
   "source": [
    "sqare"
   ]
  },
  {
   "cell_type": "code",
   "execution_count": null,
   "metadata": {},
   "outputs": [],
   "source": []
  },
  {
   "cell_type": "code",
   "execution_count": null,
   "metadata": {},
   "outputs": [],
   "source": []
  }
 ],
 "metadata": {
  "kernelspec": {
   "display_name": "Python 3",
   "language": "python",
   "name": "python3"
  },
  "language_info": {
   "codemirror_mode": {
    "name": "ipython",
    "version": 3
   },
   "file_extension": ".py",
   "mimetype": "text/x-python",
   "name": "python",
   "nbconvert_exporter": "python",
   "pygments_lexer": "ipython3",
   "version": "3.6.4"
  }
 },
 "nbformat": 4,
 "nbformat_minor": 2
}
