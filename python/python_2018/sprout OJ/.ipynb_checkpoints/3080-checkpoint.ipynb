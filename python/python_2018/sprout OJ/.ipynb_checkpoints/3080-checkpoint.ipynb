{
 "cells": [
  {
   "cell_type": "code",
   "execution_count": 1,
   "metadata": {},
   "outputs": [
    {
     "name": "stdout",
     "output_type": "stream",
     "text": [
      "4 8 6 7 1\n",
      "2\n",
      "6\n",
      "2\n",
      "1\n",
      "1\n"
     ]
    }
   ],
   "source": [
    "#TLE\n",
    "\n",
    "products = input().split()\n",
    "n_products = []\n",
    "\n",
    "n_products.append(products[0])\n",
    "products.pop(0)\n",
    "\n",
    "while len(products) != 0:\n",
    "    bigger = True\n",
    "    for j in range(len(n_products)):\n",
    "        if int(n_products[j]) > int(products[0]):\n",
    "            n_products[j] = products[0]\n",
    "            bigger = False\n",
    "            break\n",
    "    if bigger:\n",
    "        n_products.append(products[0])\n",
    "    products.pop(0)\n",
    "\n",
    "for i in range(int(input())):\n",
    "    Villager = int(input())\n",
    "    for j in range(len(n_products)):\n",
    "        if int(Villager) == int(n_products[j]):\n",
    "            print(int(j)+1)"
   ]
  },
  {
   "cell_type": "code",
   "execution_count": 30,
   "metadata": {},
   "outputs": [
    {
     "name": "stdout",
     "output_type": "stream",
     "text": [
      "4 8 6 7 1\n",
      "['1', '6', '7']\n",
      "2\n",
      "6\n",
      "2\n",
      "1\n",
      "1\n"
     ]
    }
   ],
   "source": [
    "import bisect\n",
    "\n",
    "products = input().split()\n",
    "new_products = []\n",
    "\n",
    "for i in products:\n",
    "    if len(new_products) == 0:\n",
    "        new_products.append(i)\n",
    "    elif i > new_products[-1]:\n",
    "        new_products.append(i)\n",
    "    else:\n",
    "        new_products[int(bisect.bisect_right(new_products, i))] = i\n",
    "        \n",
    "for i in range(int(input())):\n",
    "    Villager = input()\n",
    "    print(bisect.bisect_left(new_products, Villager)+1)"
   ]
  },
  {
   "cell_type": "markdown",
   "metadata": {},
   "source": [
    "4 8 6 7 1\n",
    "2 \n",
    "6 \n",
    "1 "
   ]
  },
  {
   "cell_type": "code",
   "execution_count": 14,
   "metadata": {},
   "outputs": [
    {
     "ename": "IndexError",
     "evalue": "list assignment index out of range",
     "output_type": "error",
     "traceback": [
      "\u001b[0;31m---------------------------------------------------------------------------\u001b[0m",
      "\u001b[0;31mIndexError\u001b[0m                                Traceback (most recent call last)",
      "\u001b[0;32m<ipython-input-14-4d8962ab823f>\u001b[0m in \u001b[0;36m<module>\u001b[0;34m()\u001b[0m\n\u001b[1;32m      1\u001b[0m \u001b[0mnew_products\u001b[0m \u001b[0;34m=\u001b[0m \u001b[0;34m[\u001b[0m\u001b[0;34m]\u001b[0m\u001b[0;34m\u001b[0m\u001b[0m\n\u001b[0;32m----> 2\u001b[0;31m \u001b[0mnew_products\u001b[0m\u001b[0;34m[\u001b[0m\u001b[0;36m0\u001b[0m\u001b[0;34m]\u001b[0m \u001b[0;34m=\u001b[0m \u001b[0;36m1\u001b[0m\u001b[0;34m\u001b[0m\u001b[0m\n\u001b[0m",
      "\u001b[0;31mIndexError\u001b[0m: list assignment index out of range"
     ]
    }
   ],
   "source": [
    "new_products = []\n",
    "new_products[0] = 1"
   ]
  },
  {
   "cell_type": "code",
   "execution_count": null,
   "metadata": {},
   "outputs": [],
   "source": []
  }
 ],
 "metadata": {
  "kernelspec": {
   "display_name": "Python 3",
   "language": "python",
   "name": "python3"
  },
  "language_info": {
   "codemirror_mode": {
    "name": "ipython",
    "version": 3
   },
   "file_extension": ".py",
   "mimetype": "text/x-python",
   "name": "python",
   "nbconvert_exporter": "python",
   "pygments_lexer": "ipython3",
   "version": "3.6.4"
  }
 },
 "nbformat": 4,
 "nbformat_minor": 2
}
