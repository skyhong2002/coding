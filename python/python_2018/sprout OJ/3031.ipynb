{
 "cells": [
  {
   "cell_type": "code",
   "execution_count": 5,
   "metadata": {},
   "outputs": [],
   "source": [
    "#尚未寫完\n",
    "abc = list(map(int, input().split()))\n",
    "a = abc[0]\n",
    "b = abc[1]\n",
    "c = abc[2]\n",
    "now = a\n",
    "\n",
    "while now <= c:\n",
    "    "
   ]
  },
  {
   "cell_type": "code",
   "execution_count": null,
   "metadata": {},
   "outputs": [],
   "source": [
    "#學長筆下WA\n",
    "while 1:\n",
    "    try:\n",
    "        data = input().split(' ')\n",
    "        a, b, c = int(data[0]),int(data[1]),int(data[2])\n",
    "        if b == 0:\n",
    "            if (a != c) : print('><')\n",
    "            else : print(a)\n",
    "        else:\n",
    "            if a <= c:\n",
    "                if b <= 0 or (c - a) % b : print('><')\n",
    "                else :\n",
    "                     while a < c :\n",
    "                        print(a , end=\" \")\n",
    "                        a += b\n",
    "                        print(c)\n",
    "            elif a >= c:\n",
    "                if b >= 0 or (a - c) % b : print('><')\n",
    "                    else:\n",
    "                        while a > c:\n",
    "                    print(a, end=\" \")\n",
    "                    a += b\n",
    "                print(c)\n",
    "    except EOFError:break"
   ]
  },
  {
   "cell_type": "code",
   "execution_count": null,
   "metadata": {},
   "outputs": [],
   "source": [
    "#學長筆下AC\n",
    "while 1:\n",
    "    try:\n",
    "        data=input().split(' ')\n",
    "        a,b,c = int(data[0]),int(data[1]),int(data[2])\n",
    "        if a!=c:\n",
    "            if a<c and (b <= 0 or (c - a) % b) : print('><')\n",
    "            elif a>c and (b >= 0 or (a - c) % b) : print('><')\n",
    "            else:\n",
    "                for i in range(a, c, b): print(i, end=\" \")\n",
    "                print(c)\n",
    "        else : print(a)\n",
    "    except EOFError:break"
   ]
  }
 ],
 "metadata": {
  "kernelspec": {
   "display_name": "Python 3",
   "language": "python",
   "name": "python3"
  },
  "language_info": {
   "codemirror_mode": {
    "name": "ipython",
    "version": 3
   },
   "file_extension": ".py",
   "mimetype": "text/x-python",
   "name": "python",
   "nbconvert_exporter": "python",
   "pygments_lexer": "ipython3",
   "version": "3.7.1"
  }
 },
 "nbformat": 4,
 "nbformat_minor": 2
}
