{
 "cells": [
  {
   "cell_type": "code",
   "execution_count": null,
   "metadata": {},
   "outputs": [],
   "source": [
    "line = []\n",
    "unput_num = 0\n",
    "\n",
    "for i in [0, 1, 2, 3, 4, 5, 6, 7, 8]:\n",
    "    line_input = input().split()\n",
    "    line.insert(i, line_input)\n",
    "    \n",
    "    for j in range(9):\n",
    "        if int(line_input[j]) == 0:\n",
    "            unput_num += 1\n",
    "            #print(line_input[j], '==', '0', unput_num)\n",
    "        #else:\n",
    "            #print(line_input[j], '!=', '0', unput_num)\n",
    "    \n",
    "\n",
    "cnt = int(input())\n",
    "\n",
    "for i in range(cnt):\n",
    "    \n",
    "    in_put = input().split()\n",
    "    line_y = int(in_put[0]) - 1\n",
    "    line_x = int(in_put[1]) - 1\n",
    "    num = int(in_put[2])\n",
    "    correct = True\n",
    "    \n",
    "    for x in range(9):\n",
    "        \n",
    "        if int(line[line_y][x]) == num:\n",
    "            print(line_y + 1, x + 1)\n",
    "            correct = False\n",
    "            continue\n",
    "            \n",
    "    for y in range(9):\n",
    "        \n",
    "        if int(line[y][line_x]) == num:\n",
    "            print(y + 1, line_x + 1)\n",
    "            correct = False\n",
    "            continue\n",
    "    \n",
    "    \n",
    "    if correct == True:\n",
    "        print('You can put it!')\n",
    "        unput_num  += -1\n",
    "        line[line_y][line_x] = num\n",
    "\n",
    "print(unput_num)"
   ]
  },
  {
   "cell_type": "code",
   "execution_count": null,
   "metadata": {},
   "outputs": [],
   "source": [
    "'''\n",
    "0 0 0 0 0 0 0 0 2\n",
    "0 7 0 8 0 0 0 0 5\n",
    "0 1 8 7 4 0 0 0 0\n",
    "0 0 1 0 0 5 8 3 0\n",
    "0 0 0 3 0 6 0 0 0\n",
    "2 0 0 0 1 7 0 5 4\n",
    "0 0 5 0 0 0 0 0 0\n",
    "0 0 6 0 3 0 0 4 0\n",
    "8 0 0 0 0 1 0 9 0\n",
    "3\n",
    "4 2 1\n",
    "4 2 2\n",
    "5 2 2\n",
    "'''"
   ]
  },
  {
   "cell_type": "code",
   "execution_count": null,
   "metadata": {},
   "outputs": [],
   "source": [
    "int(line[1][1]) == 7"
   ]
  },
  {
   "cell_type": "code",
   "execution_count": null,
   "metadata": {},
   "outputs": [],
   "source": []
  }
 ],
 "metadata": {
  "kernelspec": {
   "display_name": "Python 3",
   "language": "python",
   "name": "python3"
  },
  "language_info": {
   "codemirror_mode": {
    "name": "ipython",
    "version": 3
   },
   "file_extension": ".py",
   "mimetype": "text/x-python",
   "name": "python",
   "nbconvert_exporter": "python",
   "pygments_lexer": "ipython3",
   "version": "3.6.4"
  }
 },
 "nbformat": 4,
 "nbformat_minor": 2
}
