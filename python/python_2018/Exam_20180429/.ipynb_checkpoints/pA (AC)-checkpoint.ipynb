{
 "cells": [
  {
   "cell_type": "code",
   "execution_count": 5,
   "metadata": {},
   "outputs": [
    {
     "name": "stdout",
     "output_type": "stream",
     "text": [
      "2\n",
      "8 12\n"
     ]
    }
   ],
   "source": [
    "step = int(input())\n",
    "coordinate_x = 0\n",
    "coordinate_y = 0\n",
    "direction = 0\n",
    "\n",
    "for i in range(10):\n",
    "\n",
    "    if direction%2 == 0:\n",
    "        coordinate_x += step\n",
    "    else:\n",
    "        coordinate_y += step\n",
    "    \n",
    "    if ( coordinate_x + coordinate_y ) % 3 == 2:\n",
    "        direction += 1\n",
    "    \n",
    "print(coordinate_x, coordinate_y)"
   ]
  }
 ],
 "metadata": {
  "kernelspec": {
   "display_name": "Python 3",
   "language": "python",
   "name": "python3"
  },
  "language_info": {
   "codemirror_mode": {
    "name": "ipython",
    "version": 3
   },
   "file_extension": ".py",
   "mimetype": "text/x-python",
   "name": "python",
   "nbconvert_exporter": "python",
   "pygments_lexer": "ipython3",
   "version": "3.6.4"
  }
 },
 "nbformat": 4,
 "nbformat_minor": 2
}
