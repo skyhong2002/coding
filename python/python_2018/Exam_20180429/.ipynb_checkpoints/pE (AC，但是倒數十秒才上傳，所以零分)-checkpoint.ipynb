{
 "cells": [
  {
   "cell_type": "code",
   "execution_count": 44,
   "metadata": {},
   "outputs": [
    {
     "name": "stdout",
     "output_type": "stream",
     "text": [
      "001_ri1ak kanahei\n",
      "002_ri2ak kanahei\n",
      "005_m0cha pusheen\n",
      "004_me10dy sentimental_circus\n",
      "003_ri3ak kanahei\n",
      "006_ri4ak kanahei\n",
      "007_treapking pusheen\n",
      "END\n",
      "4\n",
      "4\n",
      "2\n",
      "1\n",
      "4\n",
      "4\n",
      "2\n"
     ]
    }
   ],
   "source": [
    "mid_vote = []\n",
    "\n",
    "while True:\n",
    "    string = input().split()\n",
    "    if string[0] == 'END':\n",
    "        break\n",
    "    else:\n",
    "        mid = string[0]\n",
    "        vote = string[-1]\n",
    "      \n",
    "    mid_vote.append([mid, vote])\n",
    "    \n",
    "mid_vote.sort()\n",
    "    \n",
    "for i in range(len(mid_vote)):\n",
    "    cnt = 0\n",
    "    for j in range(len(mid_vote)):\n",
    "        if mid_vote[j][1] == mid_vote[i][1]:\n",
    "            cnt += 1\n",
    "    print(cnt)"
   ]
  },
  {
   "cell_type": "code",
   "execution_count": 45,
   "metadata": {},
   "outputs": [
    {
     "data": {
      "text/plain": [
       "'001_ri1ak kanahei\\n002_ri2ak kanahei\\n005_m0cha pusheen\\n004_me10dy sentimental_circus\\n003_ri3ak kanahei\\n006_ri4ak kanahei\\n007_treapking pusheen'"
      ]
     },
     "execution_count": 45,
     "metadata": {},
     "output_type": "execute_result"
    }
   ],
   "source": [
    "'''001_ri1ak kanahei\n",
    "002_ri2ak kanahei\n",
    "005_m0cha pusheen\n",
    "004_me10dy sentimental_circus\n",
    "003_ri3ak kanahei\n",
    "006_ri4ak kanahei\n",
    "007_treapking pusheen'''"
   ]
  },
  {
   "cell_type": "code",
   "execution_count": 46,
   "metadata": {},
   "outputs": [
    {
     "data": {
      "text/plain": [
       "[['001_ri1ak', 'kanahei'],\n",
       " ['002_ri2ak', 'kanahei'],\n",
       " ['005_m0cha', 'pusheen'],\n",
       " ['004_me10dy', 'sentimental_circus'],\n",
       " ['003_ri3ak', 'kanahei'],\n",
       " ['006_ri4ak', 'kanahei'],\n",
       " ['007_treapking', 'pusheen']]"
      ]
     },
     "execution_count": 46,
     "metadata": {},
     "output_type": "execute_result"
    }
   ],
   "source": []
  },
  {
   "cell_type": "code",
   "execution_count": null,
   "metadata": {},
   "outputs": [],
   "source": []
  }
 ],
 "metadata": {
  "kernelspec": {
   "display_name": "Python 3",
   "language": "python",
   "name": "python3"
  },
  "language_info": {
   "codemirror_mode": {
    "name": "ipython",
    "version": 3
   },
   "file_extension": ".py",
   "mimetype": "text/x-python",
   "name": "python",
   "nbconvert_exporter": "python",
   "pygments_lexer": "ipython3",
   "version": "3.6.4"
  }
 },
 "nbformat": 4,
 "nbformat_minor": 2
}
