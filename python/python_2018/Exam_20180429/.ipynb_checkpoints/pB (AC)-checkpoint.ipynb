{
 "cells": [
  {
   "cell_type": "code",
   "execution_count": 2,
   "metadata": {},
   "outputs": [
    {
     "name": "stdout",
     "output_type": "stream",
     "text": [
      "10\n",
      "2 5  \n"
     ]
    }
   ],
   "source": [
    "number = int(input())\n",
    "factor = 2\n",
    "factor_ed = []\n",
    "\n",
    "while factor <= number:\n",
    "    if number % factor == 0:\n",
    "        number /= factor\n",
    "        factor_ed.append(factor) \n",
    "        continue\n",
    "    factor += 1\n",
    "    \n",
    "for i in factor_ed:\n",
    "    print(i, end = \" \")\n",
    "\n",
    "print(\" \")"
   ]
  },
  {
   "cell_type": "code",
   "execution_count": null,
   "metadata": {},
   "outputs": [],
   "source": []
  }
 ],
 "metadata": {
  "kernelspec": {
   "display_name": "Python 3",
   "language": "python",
   "name": "python3"
  },
  "language_info": {
   "codemirror_mode": {
    "name": "ipython",
    "version": 3
   },
   "file_extension": ".py",
   "mimetype": "text/x-python",
   "name": "python",
   "nbconvert_exporter": "python",
   "pygments_lexer": "ipython3",
   "version": "3.6.4"
  }
 },
 "nbformat": 4,
 "nbformat_minor": 2
}
